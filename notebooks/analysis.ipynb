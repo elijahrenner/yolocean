{
 "cells": [
  {
   "cell_type": "code",
   "execution_count": 2,
   "metadata": {},
   "outputs": [
    {
     "ename": "FileNotFoundError",
     "evalue": "[Errno 2] No such file or directory: 'data/SUIM/train_val/images'",
     "output_type": "error",
     "traceback": [
      "\u001b[0;31m---------------------------------------------------------------------------\u001b[0m",
      "\u001b[0;31mFileNotFoundError\u001b[0m                         Traceback (most recent call last)",
      "Cell \u001b[0;32mIn[2], line 28\u001b[0m\n\u001b[1;32m     25\u001b[0m train_images_path \u001b[38;5;241m=\u001b[39m os\u001b[38;5;241m.\u001b[39mpath\u001b[38;5;241m.\u001b[39mjoin(ip_path, \u001b[38;5;124m'\u001b[39m\u001b[38;5;124mtrain_val\u001b[39m\u001b[38;5;124m'\u001b[39m, \u001b[38;5;124m'\u001b[39m\u001b[38;5;124mimages\u001b[39m\u001b[38;5;124m'\u001b[39m)\n\u001b[1;32m     26\u001b[0m train_masks_path \u001b[38;5;241m=\u001b[39m os\u001b[38;5;241m.\u001b[39mpath\u001b[38;5;241m.\u001b[39mjoin(ip_path, \u001b[38;5;124m'\u001b[39m\u001b[38;5;124mtrain_val\u001b[39m\u001b[38;5;124m'\u001b[39m, \u001b[38;5;124m'\u001b[39m\u001b[38;5;124mmasks\u001b[39m\u001b[38;5;124m'\u001b[39m)\n\u001b[0;32m---> 28\u001b[0m train_imgs_list \u001b[38;5;241m=\u001b[39m \u001b[38;5;28msorted\u001b[39m(os\u001b[38;5;241m.\u001b[39mlistdir(train_images_path))\n\u001b[1;32m     29\u001b[0m train_masks_list \u001b[38;5;241m=\u001b[39m \u001b[38;5;28msorted\u001b[39m(os\u001b[38;5;241m.\u001b[39mlistdir(train_masks_path))\n\u001b[1;32m     31\u001b[0m \u001b[38;5;66;03m# Define color mappings\u001b[39;00m\n",
      "\u001b[0;31mFileNotFoundError\u001b[0m: [Errno 2] No such file or directory: 'data/SUIM/train_val/images'"
     ]
    }
   ],
   "source": [
    "# Import necessary libraries\n",
    "import os\n",
    "import matplotlib.pyplot as plt\n",
    "import cv2\n",
    "import pandas as pd\n",
    "import random\n",
    "import copy\n",
    "import shutil\n",
    "import numpy as np\n",
    "import ipywidgets as widgets\n",
    "import wandb\n",
    "from ultralytics import YOLO\n",
    "import yaml\n",
    "\n",
    "# Load configuration\n",
    "with open('../configs/config.yaml', 'r') as f:\n",
    "    config = yaml.safe_load(f)\n",
    "\n",
    "\n",
    "# Define paths\n",
    "ip_path = config['paths']['input']\n",
    "op_path = config['paths']['output']\n",
    "\n",
    "# Define data paths\n",
    "train_images_path = os.path.join(ip_path, 'train_val', 'images')\n",
    "train_masks_path = os.path.join(ip_path, 'train_val', 'masks')\n",
    "\n",
    "train_imgs_list = sorted(os.listdir(train_images_path))\n",
    "train_masks_list = sorted(os.listdir(train_masks_path))\n",
    "\n",
    "# Define color mappings\n",
    "color_class_mapping = {\n",
    "    (0, 0, 0): 0,\n",
    "    (0, 0, 255): 1,\n",
    "    (0, 255, 0): 2,\n",
    "    (0, 255, 255): 3,\n",
    "    (255, 0, 0): 4,\n",
    "    (255, 0, 255): 5,\n",
    "    (255, 255, 0): 6,\n",
    "    (255, 255, 255): 7\n",
    "}\n",
    "\n",
    "color_name_mapping = {\n",
    "    (0, 0, 0): 'black',\n",
    "    (0, 0, 255): 'blue',\n",
    "    (0, 255, 0): 'green',\n",
    "    (0, 255, 255): 'sky',\n",
    "    (255, 0, 0): 'red',\n",
    "    (255, 0, 255): 'pink',\n",
    "    (255, 255, 0): 'yellow',\n",
    "    (255, 255, 255): 'white'\n",
    "}\n",
    "\n",
    "from src.visualization import plot_image_and_mask, draw_contour_for_one_color_on_mask\n",
    "\n",
    "# Plot a random image and its mask\n",
    "plot_image_and_mask(train_images_path, train_masks_path, train_imgs_list, train_masks_list)\n",
    "\n",
    "# Draw contour for a random color on a mask\n",
    "draw_contour_for_one_color_on_mask(train_images_path, train_masks_path, train_imgs_list, train_masks_list, color_class_mapping, color_name_mapping)\n"
   ]
  },
  {
   "cell_type": "code",
   "execution_count": null,
   "metadata": {},
   "outputs": [],
   "source": []
  }
 ],
 "metadata": {
  "kernelspec": {
   "display_name": "base",
   "language": "python",
   "name": "python3"
  },
  "language_info": {
   "codemirror_mode": {
    "name": "ipython",
    "version": 3
   },
   "file_extension": ".py",
   "mimetype": "text/x-python",
   "name": "python",
   "nbconvert_exporter": "python",
   "pygments_lexer": "ipython3",
   "version": "3.12.4"
  }
 },
 "nbformat": 4,
 "nbformat_minor": 2
}
